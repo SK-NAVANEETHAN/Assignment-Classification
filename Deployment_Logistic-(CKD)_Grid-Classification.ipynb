{
 "cells": [
  {
   "cell_type": "code",
   "execution_count": 1,
   "id": "f1122ad5",
   "metadata": {},
   "outputs": [
    {
     "name": "stdout",
     "output_type": "stream",
     "text": [
      "Age:28.10\n",
      "bp:10.9\n",
      "al:20.8\n",
      "su:30.7\n",
      "bgr:40.6\n",
      "bu:50.5\n",
      "sc:9.8\n",
      "sod:8.7\n",
      "pot:7.6\n",
      "hrmo:6.5\n",
      "pcv:60.4\n",
      "wc:70.3\n",
      "rc:80.2\n",
      "sg_b:1\n",
      "sg_c:0\n",
      "sg_d:1\n",
      "sg_e:0\n",
      "rbc_normal:1\n",
      "pcc_present:1\n",
      "pc_normal:1\n",
      "ba_present:0\n",
      "htn_yes:0\n",
      "dm_yes:0\n",
      "cad_yes:1\n",
      "appet_yes:0\n",
      "pe_yes:1\n",
      "ane_yes:0\n"
     ]
    }
   ],
   "source": [
    "age=float(input(\"Age:\"))\n",
    "bp=float(input(\"bp:\"))\n",
    "al=float(input(\"al:\"))\n",
    "su=float(input(\"su:\"))\n",
    "bgr=float(input(\"bgr:\"))\n",
    "bu=float(input(\"bu:\"))\n",
    "sc=float(input(\"sc:\"))\n",
    "sod=float(input(\"sod:\"))\n",
    "pot=float(input(\"pot:\"))\n",
    "hrmo=float(input(\"hrmo:\"))\n",
    "pcv=float(input(\"pcv:\"))\n",
    "wc=float(input(\"wc:\"))\n",
    "rc=float(input(\"rc:\"))\n",
    "sg_b=int(input(\"sg_b:\"))\n",
    "sg_c=int(input(\"sg_c:\"))\n",
    "sg_d=int(input(\"sg_d:\"))\n",
    "sg_e=int(input(\"sg_e:\"))\n",
    "rbc_normal=int(input(\"rbc_normal:\"))\n",
    "pcc_present=int(input(\"pcc_present:\"))\n",
    "pc_normal=int(input(\"pc_normal:\"))\n",
    "ba_present=int(input(\"ba_present:\"))\n",
    "htn_yes=int(input(\"htn_yes:\"))\n",
    "dm_yes=int(input(\"dm_yes:\"))\n",
    "cad_yes=int(input(\"cad_yes:\"))\n",
    "appet_yes=int(input(\"appet_yes:\"))\n",
    "pe_yes=int(input(\"pe_yes:\"))\n",
    "ane_yes=int(input(\"ane_yes:\"))"
   ]
  },
  {
   "cell_type": "code",
   "execution_count": 2,
   "id": "0b747072",
   "metadata": {},
   "outputs": [
    {
     "name": "stdout",
     "output_type": "stream",
     "text": [
      "Future_Prediction=[0]\n"
     ]
    },
    {
     "name": "stderr",
     "output_type": "stream",
     "text": [
      "C:\\Users\\Navaneethan\\anaconda3\\Lib\\site-packages\\sklearn\\base.py:493: UserWarning: X does not have valid feature names, but LogisticRegression was fitted with feature names\n",
      "  warnings.warn(\n"
     ]
    }
   ],
   "source": [
    "import pickle\n",
    "loadedModel=pickle.load(open(\"FinalModel_Logistic-Grid-Regression.sav\",\"rb\"))\n",
    "result=loadedModel.predict([[age, bp, al, su, bgr, bu, sc, sod, pot, hrmo, pcv,\n",
    "                                   wc, rc, sg_b, sg_c, sg_d, sg_e, rbc_normal,pcc_present, pc_normal,ba_present, htn_yes, dm_yes, cad_yes,\n",
    "                                   appet_yes, pe_yes, ane_yes]])\n",
    "print(\"Future_Prediction={}\".format(result))"
   ]
  },
  {
   "cell_type": "code",
   "execution_count": null,
   "id": "0f0e50e4",
   "metadata": {},
   "outputs": [],
   "source": []
  }
 ],
 "metadata": {
  "kernelspec": {
   "display_name": "Python 3 (ipykernel)",
   "language": "python",
   "name": "python3"
  },
  "language_info": {
   "codemirror_mode": {
    "name": "ipython",
    "version": 3
   },
   "file_extension": ".py",
   "mimetype": "text/x-python",
   "name": "python",
   "nbconvert_exporter": "python",
   "pygments_lexer": "ipython3",
   "version": "3.11.5"
  }
 },
 "nbformat": 4,
 "nbformat_minor": 5
}
